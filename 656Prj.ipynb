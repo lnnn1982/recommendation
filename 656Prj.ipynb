{
 "cells": [
  {
   "cell_type": "code",
   "execution_count": 2,
   "metadata": {},
   "outputs": [],
   "source": [
    "import pandas as pd\n",
    "import numpy as np\n",
    "import matplotlib.pyplot as plt\n",
    "\n",
    "\n",
    "pd.options.display.max_rows = 20\n",
    "pd.options.display.max_columns = 100"
   ]
  },
  {
   "cell_type": "code",
   "execution_count": 3,
   "metadata": {},
   "outputs": [
    {
     "data": {
      "text/html": [
       "<div>\n",
       "<style scoped>\n",
       "    .dataframe tbody tr th:only-of-type {\n",
       "        vertical-align: middle;\n",
       "    }\n",
       "\n",
       "    .dataframe tbody tr th {\n",
       "        vertical-align: top;\n",
       "    }\n",
       "\n",
       "    .dataframe thead th {\n",
       "        text-align: right;\n",
       "    }\n",
       "</style>\n",
       "<table border=\"1\" class=\"dataframe\">\n",
       "  <thead>\n",
       "    <tr style=\"text-align: right;\">\n",
       "      <th></th>\n",
       "      <th>rankValue</th>\n",
       "      <th>regParam</th>\n",
       "      <th>RMSE</th>\n",
       "    </tr>\n",
       "  </thead>\n",
       "  <tbody>\n",
       "    <tr>\n",
       "      <th>0</th>\n",
       "      <td>20</td>\n",
       "      <td>0.10</td>\n",
       "      <td>1.363085</td>\n",
       "    </tr>\n",
       "    <tr>\n",
       "      <th>1</th>\n",
       "      <td>50</td>\n",
       "      <td>0.10</td>\n",
       "      <td>1.328194</td>\n",
       "    </tr>\n",
       "    <tr>\n",
       "      <th>2</th>\n",
       "      <td>100</td>\n",
       "      <td>0.10</td>\n",
       "      <td>1.334589</td>\n",
       "    </tr>\n",
       "    <tr>\n",
       "      <th>3</th>\n",
       "      <td>200</td>\n",
       "      <td>0.10</td>\n",
       "      <td>1.337165</td>\n",
       "    </tr>\n",
       "    <tr>\n",
       "      <th>4</th>\n",
       "      <td>300</td>\n",
       "      <td>0.10</td>\n",
       "      <td>1.337235</td>\n",
       "    </tr>\n",
       "    <tr>\n",
       "      <th>5</th>\n",
       "      <td>20</td>\n",
       "      <td>0.02</td>\n",
       "      <td>1.629626</td>\n",
       "    </tr>\n",
       "    <tr>\n",
       "      <th>6</th>\n",
       "      <td>50</td>\n",
       "      <td>0.02</td>\n",
       "      <td>1.466015</td>\n",
       "    </tr>\n",
       "    <tr>\n",
       "      <th>7</th>\n",
       "      <td>100</td>\n",
       "      <td>0.02</td>\n",
       "      <td>1.420712</td>\n",
       "    </tr>\n",
       "    <tr>\n",
       "      <th>8</th>\n",
       "      <td>200</td>\n",
       "      <td>0.02</td>\n",
       "      <td>1.382720</td>\n",
       "    </tr>\n",
       "    <tr>\n",
       "      <th>9</th>\n",
       "      <td>300</td>\n",
       "      <td>0.02</td>\n",
       "      <td>1.407959</td>\n",
       "    </tr>\n",
       "  </tbody>\n",
       "</table>\n",
       "</div>"
      ],
      "text/plain": [
       "   rankValue  regParam      RMSE\n",
       "0         20      0.10  1.363085\n",
       "1         50      0.10  1.328194\n",
       "2        100      0.10  1.334589\n",
       "3        200      0.10  1.337165\n",
       "4        300      0.10  1.337235\n",
       "5         20      0.02  1.629626\n",
       "6         50      0.02  1.466015\n",
       "7        100      0.02  1.420712\n",
       "8        200      0.02  1.382720\n",
       "9        300      0.02  1.407959"
      ]
     },
     "execution_count": 3,
     "metadata": {},
     "output_type": "execute_result"
    }
   ],
   "source": [
    "alsRMSEDF = pd.read_csv('.\\\\alsRMSE.csv')\n",
    "alsRMSEDF"
   ]
  },
  {
   "cell_type": "code",
   "execution_count": 4,
   "metadata": {},
   "outputs": [
    {
     "data": {
      "text/html": [
       "<div>\n",
       "<style scoped>\n",
       "    .dataframe tbody tr th:only-of-type {\n",
       "        vertical-align: middle;\n",
       "    }\n",
       "\n",
       "    .dataframe tbody tr th {\n",
       "        vertical-align: top;\n",
       "    }\n",
       "\n",
       "    .dataframe thead th {\n",
       "        text-align: right;\n",
       "    }\n",
       "</style>\n",
       "<table border=\"1\" class=\"dataframe\">\n",
       "  <thead>\n",
       "    <tr style=\"text-align: right;\">\n",
       "      <th></th>\n",
       "      <th>neighbor_number</th>\n",
       "      <th>RMSE</th>\n",
       "    </tr>\n",
       "  </thead>\n",
       "  <tbody>\n",
       "    <tr>\n",
       "      <th>0</th>\n",
       "      <td>5</td>\n",
       "      <td>1.349013</td>\n",
       "    </tr>\n",
       "    <tr>\n",
       "      <th>1</th>\n",
       "      <td>10</td>\n",
       "      <td>1.318405</td>\n",
       "    </tr>\n",
       "    <tr>\n",
       "      <th>2</th>\n",
       "      <td>15</td>\n",
       "      <td>1.322686</td>\n",
       "    </tr>\n",
       "    <tr>\n",
       "      <th>3</th>\n",
       "      <td>20</td>\n",
       "      <td>1.341626</td>\n",
       "    </tr>\n",
       "    <tr>\n",
       "      <th>4</th>\n",
       "      <td>30</td>\n",
       "      <td>1.356571</td>\n",
       "    </tr>\n",
       "  </tbody>\n",
       "</table>\n",
       "</div>"
      ],
      "text/plain": [
       "   neighbor_number      RMSE\n",
       "0                5  1.349013\n",
       "1               10  1.318405\n",
       "2               15  1.322686\n",
       "3               20  1.341626\n",
       "4               30  1.356571"
      ]
     },
     "execution_count": 4,
     "metadata": {},
     "output_type": "execute_result"
    }
   ],
   "source": [
    "itemRMSEDF = pd.read_csv('.\\\\itemRMSE.csv')\n",
    "itemRMSEDF"
   ]
  },
  {
   "cell_type": "code",
   "execution_count": 5,
   "metadata": {},
   "outputs": [
    {
     "data": {
      "text/html": [
       "<div>\n",
       "<style scoped>\n",
       "    .dataframe tbody tr th:only-of-type {\n",
       "        vertical-align: middle;\n",
       "    }\n",
       "\n",
       "    .dataframe tbody tr th {\n",
       "        vertical-align: top;\n",
       "    }\n",
       "\n",
       "    .dataframe thead th {\n",
       "        text-align: right;\n",
       "    }\n",
       "</style>\n",
       "<table border=\"1\" class=\"dataframe\">\n",
       "  <thead>\n",
       "    <tr style=\"text-align: right;\">\n",
       "      <th></th>\n",
       "      <th>RMSE_ALS</th>\n",
       "      <th>RMSE_Item</th>\n",
       "    </tr>\n",
       "  </thead>\n",
       "  <tbody>\n",
       "    <tr>\n",
       "      <th>0</th>\n",
       "      <td>1.331522</td>\n",
       "      <td>1.303037</td>\n",
       "    </tr>\n",
       "    <tr>\n",
       "      <th>1</th>\n",
       "      <td>1.326932</td>\n",
       "      <td>1.320129</td>\n",
       "    </tr>\n",
       "    <tr>\n",
       "      <th>2</th>\n",
       "      <td>1.328601</td>\n",
       "      <td>1.342767</td>\n",
       "    </tr>\n",
       "    <tr>\n",
       "      <th>3</th>\n",
       "      <td>1.327499</td>\n",
       "      <td>1.298142</td>\n",
       "    </tr>\n",
       "    <tr>\n",
       "      <th>4</th>\n",
       "      <td>1.326417</td>\n",
       "      <td>1.327947</td>\n",
       "    </tr>\n",
       "  </tbody>\n",
       "</table>\n",
       "</div>"
      ],
      "text/plain": [
       "   RMSE_ALS  RMSE_Item\n",
       "0  1.331522   1.303037\n",
       "1  1.326932   1.320129\n",
       "2  1.328601   1.342767\n",
       "3  1.327499   1.298142\n",
       "4  1.326417   1.327947"
      ]
     },
     "execution_count": 5,
     "metadata": {},
     "output_type": "execute_result"
    }
   ],
   "source": [
    "alsItemDF = pd.read_csv('.\\\\alsItem.csv')\n",
    "alsItemDF"
   ]
  },
  {
   "cell_type": "code",
   "execution_count": 6,
   "metadata": {},
   "outputs": [
    {
     "data": {
      "text/html": [
       "<div>\n",
       "<style scoped>\n",
       "    .dataframe tbody tr th:only-of-type {\n",
       "        vertical-align: middle;\n",
       "    }\n",
       "\n",
       "    .dataframe tbody tr th {\n",
       "        vertical-align: top;\n",
       "    }\n",
       "\n",
       "    .dataframe thead th {\n",
       "        text-align: right;\n",
       "    }\n",
       "</style>\n",
       "<table border=\"1\" class=\"dataframe\">\n",
       "  <thead>\n",
       "    <tr style=\"text-align: right;\">\n",
       "      <th></th>\n",
       "      <th>rankValue</th>\n",
       "      <th>regParam</th>\n",
       "      <th>RMSE</th>\n",
       "    </tr>\n",
       "  </thead>\n",
       "  <tbody>\n",
       "    <tr>\n",
       "      <th>0</th>\n",
       "      <td>20</td>\n",
       "      <td>0.1</td>\n",
       "      <td>1.363085</td>\n",
       "    </tr>\n",
       "    <tr>\n",
       "      <th>1</th>\n",
       "      <td>50</td>\n",
       "      <td>0.1</td>\n",
       "      <td>1.328194</td>\n",
       "    </tr>\n",
       "    <tr>\n",
       "      <th>2</th>\n",
       "      <td>100</td>\n",
       "      <td>0.1</td>\n",
       "      <td>1.334589</td>\n",
       "    </tr>\n",
       "    <tr>\n",
       "      <th>3</th>\n",
       "      <td>200</td>\n",
       "      <td>0.1</td>\n",
       "      <td>1.337165</td>\n",
       "    </tr>\n",
       "    <tr>\n",
       "      <th>4</th>\n",
       "      <td>300</td>\n",
       "      <td>0.1</td>\n",
       "      <td>1.337235</td>\n",
       "    </tr>\n",
       "  </tbody>\n",
       "</table>\n",
       "</div>"
      ],
      "text/plain": [
       "   rankValue  regParam      RMSE\n",
       "0         20       0.1  1.363085\n",
       "1         50       0.1  1.328194\n",
       "2        100       0.1  1.334589\n",
       "3        200       0.1  1.337165\n",
       "4        300       0.1  1.337235"
      ]
     },
     "execution_count": 6,
     "metadata": {},
     "output_type": "execute_result"
    }
   ],
   "source": [
    "alsRMSEDF[alsRMSEDF.regParam > 0.05]"
   ]
  },
  {
   "cell_type": "code",
   "execution_count": 7,
   "metadata": {},
   "outputs": [
    {
     "data": {
      "image/png": "[encoded data removed]",
      "text/plain": [
       "<matplotlib.figure.Figure at 0x1d415e0bac8>"
      ]
     },
     "metadata": {},
     "output_type": "display_data"
    }
   ],
   "source": [
    "plt.plot(alsRMSEDF[alsRMSEDF.regParam > 0.05].rankValue, alsRMSEDF[alsRMSEDF.regParam > 0.05].RMSE, \n",
    "         label='RMSE Value regParam = 0.1')\n",
    "plt.plot(alsRMSEDF[alsRMSEDF.regParam < 0.05].rankValue, alsRMSEDF[alsRMSEDF.regParam < 0.05].RMSE, \n",
    "         label='RMSE Value regParam = 0.02')\n",
    "\n",
    "plt.title(\"RMSE and Prameter rank for ALS Experiment Plot\")\n",
    "plt.xlabel(\"rank\") \n",
    "plt.ylabel(\"RMSE\")\n",
    "plt.legend()\n",
    "plt.show()"
   ]
  },
  {
   "cell_type": "code",
   "execution_count": 12,
   "metadata": {},
   "outputs": [
    {
     "data": {
      "image/png": "[encoded data removed]",
      "text/plain": [
       "<matplotlib.figure.Figure at 0x1d40d3679e8>"
      ]
     },
     "metadata": {},
     "output_type": "display_data"
    }
   ],
   "source": [
    "plt.plot(itemRMSEDF.neighbor_number, itemRMSEDF.RMSE, \n",
    "         label='RMSE Value', color='IndianRed')\n",
    "\n",
    "plt.title(\"RMSE and Prameter neighbor number for Item-based CF Experiment Plot\")\n",
    "plt.xlabel(\"neighbor number\") \n",
    "plt.ylabel(\"RMSE\")\n",
    "plt.legend()\n",
    "plt.show()"
   ]
  },
  {
   "cell_type": "code",
   "execution_count": 17,
   "metadata": {},
   "outputs": [
    {
     "data": {
      "image/png": "[encoded data removed]",
      "text/plain": [
       "<matplotlib.figure.Figure at 0x1d41816fa58>"
      ]
     },
     "metadata": {},
     "output_type": "display_data"
    }
   ],
   "source": [
    "plt.plot(list(range(1,6,1)), alsItemDF.RMSE_ALS, \n",
    "         label='RMSE(rank=50) for ALS', color = 'g')\n",
    "plt.plot(list(range(1,6,1)), alsItemDF.RMSE_Item, \n",
    "         label='RMSE(neighbor number = 10)for item-based CF', color = 'y')\n",
    "\n",
    "plt.title(\"RMSE of ALS and Item-based CF experiments Plot\")\n",
    "plt.xlabel(\"Experiment Time\") \n",
    "plt.ylabel(\"RMSE\")\n",
    "plt.legend(bbox_to_anchor=(1, 1))\n",
    "plt.show()"
   ]
  },
  {
   "cell_type": "code",
   "execution_count": 10,
   "metadata": {},
   "outputs": [
    {
     "data": {
      "text/html": [
       "<div>\n",
       "<style scoped>\n",
       "    .dataframe tbody tr th:only-of-type {\n",
       "        vertical-align: middle;\n",
       "    }\n",
       "\n",
       "    .dataframe tbody tr th {\n",
       "        vertical-align: top;\n",
       "    }\n",
       "\n",
       "    .dataframe thead th {\n",
       "        text-align: right;\n",
       "    }\n",
       "</style>\n",
       "<table border=\"1\" class=\"dataframe\">\n",
       "  <thead>\n",
       "    <tr style=\"text-align: right;\">\n",
       "      <th></th>\n",
       "      <th>support</th>\n",
       "      <th>confidence</th>\n",
       "      <th>numFreqItemsets</th>\n",
       "      <th>numAssociateRules</th>\n",
       "    </tr>\n",
       "  </thead>\n",
       "  <tbody>\n",
       "    <tr>\n",
       "      <th>0</th>\n",
       "      <td>0.0005</td>\n",
       "      <td>0.0001</td>\n",
       "      <td>2338</td>\n",
       "      <td>1933</td>\n",
       "    </tr>\n",
       "    <tr>\n",
       "      <th>1</th>\n",
       "      <td>0.0006</td>\n",
       "      <td>0.0001</td>\n",
       "      <td>1816</td>\n",
       "      <td>1208</td>\n",
       "    </tr>\n",
       "    <tr>\n",
       "      <th>2</th>\n",
       "      <td>0.0007</td>\n",
       "      <td>0.0001</td>\n",
       "      <td>1418</td>\n",
       "      <td>731</td>\n",
       "    </tr>\n",
       "    <tr>\n",
       "      <th>3</th>\n",
       "      <td>0.0008</td>\n",
       "      <td>0.0001</td>\n",
       "      <td>1175</td>\n",
       "      <td>523</td>\n",
       "    </tr>\n",
       "    <tr>\n",
       "      <th>4</th>\n",
       "      <td>0.0009</td>\n",
       "      <td>0.0001</td>\n",
       "      <td>1012</td>\n",
       "      <td>371</td>\n",
       "    </tr>\n",
       "    <tr>\n",
       "      <th>5</th>\n",
       "      <td>0.0010</td>\n",
       "      <td>0.0001</td>\n",
       "      <td>869</td>\n",
       "      <td>278</td>\n",
       "    </tr>\n",
       "    <tr>\n",
       "      <th>6</th>\n",
       "      <td>0.0020</td>\n",
       "      <td>0.0001</td>\n",
       "      <td>323</td>\n",
       "      <td>42</td>\n",
       "    </tr>\n",
       "    <tr>\n",
       "      <th>7</th>\n",
       "      <td>0.0030</td>\n",
       "      <td>0.0001</td>\n",
       "      <td>167</td>\n",
       "      <td>14</td>\n",
       "    </tr>\n",
       "    <tr>\n",
       "      <th>8</th>\n",
       "      <td>0.0040</td>\n",
       "      <td>0.0001</td>\n",
       "      <td>115</td>\n",
       "      <td>4</td>\n",
       "    </tr>\n",
       "    <tr>\n",
       "      <th>9</th>\n",
       "      <td>0.0050</td>\n",
       "      <td>0.0001</td>\n",
       "      <td>88</td>\n",
       "      <td>4</td>\n",
       "    </tr>\n",
       "  </tbody>\n",
       "</table>\n",
       "</div>"
      ],
      "text/plain": [
       "   support  confidence  numFreqItemsets  numAssociateRules\n",
       "0   0.0005      0.0001             2338               1933\n",
       "1   0.0006      0.0001             1816               1208\n",
       "2   0.0007      0.0001             1418                731\n",
       "3   0.0008      0.0001             1175                523\n",
       "4   0.0009      0.0001             1012                371\n",
       "5   0.0010      0.0001              869                278\n",
       "6   0.0020      0.0001              323                 42\n",
       "7   0.0030      0.0001              167                 14\n",
       "8   0.0040      0.0001              115                  4\n",
       "9   0.0050      0.0001               88                  4"
      ]
     },
     "execution_count": 10,
     "metadata": {},
     "output_type": "execute_result"
    }
   ],
   "source": [
    "freNumDF = pd.read_csv('.\\\\freNum.csv')\n",
    "freNumDF"
   ]
  },
  {
   "cell_type": "code",
   "execution_count": 16,
   "metadata": {},
   "outputs": [
    {
     "data": {
      "image/png": "[encoded data removed]",
      "text/plain": [
       "<matplotlib.figure.Figure at 0x1d418095c18>"
      ]
     },
     "metadata": {},
     "output_type": "display_data"
    }
   ],
   "source": [
    "plt.plot(freNumDF.support, freNumDF.numFreqItemsets, \n",
    "         label='Number of Frequent Items')\n",
    "plt.plot(freNumDF.support, freNumDF.numAssociateRules, \n",
    "         label='Number of Associate Rules')\n",
    "\n",
    "plt.title(\"Number of Frequent Items and Associate Rules for Different Support Value Plot\")\n",
    "plt.xlabel(\"support\") \n",
    "plt.ylabel(\"number\")\n",
    "plt.legend(bbox_to_anchor=(1, 1))\n",
    "plt.show()"
   ]
  },
  {
   "cell_type": "code",
   "execution_count": 20,
   "metadata": {},
   "outputs": [
    {
     "data": {
      "text/html": [
       "<div>\n",
       "<style scoped>\n",
       "    .dataframe tbody tr th:only-of-type {\n",
       "        vertical-align: middle;\n",
       "    }\n",
       "\n",
       "    .dataframe tbody tr th {\n",
       "        vertical-align: top;\n",
       "    }\n",
       "\n",
       "    .dataframe thead th {\n",
       "        text-align: right;\n",
       "    }\n",
       "</style>\n",
       "<table border=\"1\" class=\"dataframe\">\n",
       "  <thead>\n",
       "    <tr style=\"text-align: right;\">\n",
       "      <th></th>\n",
       "      <th>support</th>\n",
       "      <th>confidence</th>\n",
       "      <th>TP</th>\n",
       "      <th>FP</th>\n",
       "      <th>FN</th>\n",
       "      <th>precision</th>\n",
       "      <th>recall</th>\n",
       "    </tr>\n",
       "  </thead>\n",
       "  <tbody>\n",
       "    <tr>\n",
       "      <th>0</th>\n",
       "      <td>0.0005</td>\n",
       "      <td>0.0001</td>\n",
       "      <td>1289</td>\n",
       "      <td>144446</td>\n",
       "      <td>5465</td>\n",
       "      <td>0.008845</td>\n",
       "      <td>0.190850</td>\n",
       "    </tr>\n",
       "    <tr>\n",
       "      <th>1</th>\n",
       "      <td>0.0006</td>\n",
       "      <td>0.0001</td>\n",
       "      <td>1036</td>\n",
       "      <td>98900</td>\n",
       "      <td>5518</td>\n",
       "      <td>0.010367</td>\n",
       "      <td>0.158071</td>\n",
       "    </tr>\n",
       "    <tr>\n",
       "      <th>2</th>\n",
       "      <td>0.0007</td>\n",
       "      <td>0.0001</td>\n",
       "      <td>851</td>\n",
       "      <td>71523</td>\n",
       "      <td>5304</td>\n",
       "      <td>0.011758</td>\n",
       "      <td>0.138262</td>\n",
       "    </tr>\n",
       "    <tr>\n",
       "      <th>3</th>\n",
       "      <td>0.0008</td>\n",
       "      <td>0.0001</td>\n",
       "      <td>726</td>\n",
       "      <td>56653</td>\n",
       "      <td>5125</td>\n",
       "      <td>0.012653</td>\n",
       "      <td>0.124081</td>\n",
       "    </tr>\n",
       "    <tr>\n",
       "      <th>4</th>\n",
       "      <td>0.0009</td>\n",
       "      <td>0.0001</td>\n",
       "      <td>629</td>\n",
       "      <td>37853</td>\n",
       "      <td>4967</td>\n",
       "      <td>0.016345</td>\n",
       "      <td>0.112402</td>\n",
       "    </tr>\n",
       "    <tr>\n",
       "      <th>5</th>\n",
       "      <td>0.0010</td>\n",
       "      <td>0.0001</td>\n",
       "      <td>557</td>\n",
       "      <td>34317</td>\n",
       "      <td>4945</td>\n",
       "      <td>0.016449</td>\n",
       "      <td>0.102022</td>\n",
       "    </tr>\n",
       "    <tr>\n",
       "      <th>6</th>\n",
       "      <td>0.0020</td>\n",
       "      <td>0.0001</td>\n",
       "      <td>232</td>\n",
       "      <td>7443</td>\n",
       "      <td>3862</td>\n",
       "      <td>0.030228</td>\n",
       "      <td>0.056668</td>\n",
       "    </tr>\n",
       "    <tr>\n",
       "      <th>7</th>\n",
       "      <td>0.0030</td>\n",
       "      <td>0.0001</td>\n",
       "      <td>85</td>\n",
       "      <td>2171</td>\n",
       "      <td>2514</td>\n",
       "      <td>0.037677</td>\n",
       "      <td>0.032705</td>\n",
       "    </tr>\n",
       "    <tr>\n",
       "      <th>8</th>\n",
       "      <td>0.0040</td>\n",
       "      <td>0.0001</td>\n",
       "      <td>76</td>\n",
       "      <td>1217</td>\n",
       "      <td>2335</td>\n",
       "      <td>0.058778</td>\n",
       "      <td>0.031522</td>\n",
       "    </tr>\n",
       "    <tr>\n",
       "      <th>9</th>\n",
       "      <td>0.0050</td>\n",
       "      <td>0.0001</td>\n",
       "      <td>44</td>\n",
       "      <td>672</td>\n",
       "      <td>1631</td>\n",
       "      <td>0.061453</td>\n",
       "      <td>0.026269</td>\n",
       "    </tr>\n",
       "  </tbody>\n",
       "</table>\n",
       "</div>"
      ],
      "text/plain": [
       "   support  confidence    TP      FP    FN  precision    recall\n",
       "0   0.0005      0.0001  1289  144446  5465   0.008845  0.190850\n",
       "1   0.0006      0.0001  1036   98900  5518   0.010367  0.158071\n",
       "2   0.0007      0.0001   851   71523  5304   0.011758  0.138262\n",
       "3   0.0008      0.0001   726   56653  5125   0.012653  0.124081\n",
       "4   0.0009      0.0001   629   37853  4967   0.016345  0.112402\n",
       "5   0.0010      0.0001   557   34317  4945   0.016449  0.102022\n",
       "6   0.0020      0.0001   232    7443  3862   0.030228  0.056668\n",
       "7   0.0030      0.0001    85    2171  2514   0.037677  0.032705\n",
       "8   0.0040      0.0001    76    1217  2335   0.058778  0.031522\n",
       "9   0.0050      0.0001    44     672  1631   0.061453  0.026269"
      ]
     },
     "execution_count": 20,
     "metadata": {},
     "output_type": "execute_result"
    }
   ],
   "source": [
    "freqResult = pd.read_csv('.\\\\freqResult.csv')\n",
    "freqResult"
   ]
  },
  {
   "cell_type": "code",
   "execution_count": 36,
   "metadata": {},
   "outputs": [],
   "source": [
    "# TPFPFNDf = freqResult.loc[:, ['TP', 'FP', 'FN']]\n",
    "# from sklearn import preprocessing\n",
    "# std_scale = preprocessing.StandardScaler().fit(TPFPFNDf)\n",
    "# normTPFPFNDf =  pd.DataFrame(std_scale.transform(TPFPFNDf))\n",
    "# normTPFPFNDf"
   ]
  },
  {
   "cell_type": "code",
   "execution_count": 37,
   "metadata": {},
   "outputs": [],
   "source": [
    "# plt.plot(freqResult.support, normTPFPFNDf.iloc[:,0], label='TP')\n",
    "# plt.plot(freqResult.support, normTPFPFNDf.iloc[:,1], label='FP')\n",
    "# plt.plot(freqResult.support, normTPFPFNDf.iloc[:,2], label='FN')\n",
    "\n",
    "# plt.title(\"TP, FP, FN for Different Support Value Plot\")\n",
    "# plt.xlabel(\"support\") \n",
    "# plt.ylabel(\"value\")\n",
    "# plt.legend(bbox_to_anchor=(1, 1))\n",
    "# plt.show()"
   ]
  },
  {
   "cell_type": "code",
   "execution_count": 45,
   "metadata": {},
   "outputs": [
    {
     "data": {
      "image/png": "[encoded data removed]",
      "text/plain": [
       "<matplotlib.figure.Figure at 0x1d419f4c470>"
      ]
     },
     "metadata": {},
     "output_type": "display_data"
    }
   ],
   "source": [
    "plt.plot(freqResult.support, freqResult.TP, label='TP', color = 'chocolate')\n",
    "plt.plot(freqResult.support, freqResult.FP, label='FP', color = 'g')\n",
    "plt.plot(freqResult.support, freqResult.FN, label='FN', color = 'black')\n",
    "\n",
    "plt.title(\"TP, FP, FN for Different Support Value Plot\")\n",
    "plt.xlabel(\"support\") \n",
    "plt.ylabel(\"value\")\n",
    "plt.legend(bbox_to_anchor=(1, 1))\n",
    "plt.show()"
   ]
  },
  {
   "cell_type": "code",
   "execution_count": 46,
   "metadata": {},
   "outputs": [
    {
     "data": {
      "image/png": "[encoded data removed]",
      "text/plain": [
       "<matplotlib.figure.Figure at 0x1d419fb7d68>"
      ]
     },
     "metadata": {},
     "output_type": "display_data"
    }
   ],
   "source": [
    "plt.plot(freqResult.support, freqResult.precision, label='Precision', color = 'midnightblue')\n",
    "plt.plot(freqResult.support, freqResult.recall, label='Recall', color = 'r')\n",
    "\n",
    "plt.title(\"Precision and Recall for Different Support Value Plot\")\n",
    "plt.xlabel(\"support\") \n",
    "plt.ylabel(\"value\")\n",
    "plt.legend(bbox_to_anchor=(1, 1))\n",
    "plt.show()"
   ]
  },
  {
   "cell_type": "code",
   "execution_count": null,
   "metadata": {},
   "outputs": [],
   "source": []
  },
  {
   "cell_type": "code",
   "execution_count": null,
   "metadata": {},
   "outputs": [],
   "source": []
  },
  {
   "cell_type": "code",
   "execution_count": null,
   "metadata": {},
   "outputs": [],
   "source": []
  },
  {
   "cell_type": "code",
   "execution_count": null,
   "metadata": {},
   "outputs": [],
   "source": []
  }
 ],
 "metadata": {
  "kernelspec": {
   "display_name": "Python 3",
   "language": "python",
   "name": "python3"
  },
  "language_info": {
   "codemirror_mode": {
    "name": "ipython",
    "version": 3
   },
   "file_extension": ".py",
   "mimetype": "text/x-python",
   "name": "python",
   "nbconvert_exporter": "python",
   "pygments_lexer": "ipython3",
   "version": "3.6.2"
  }
 },
 "nbformat": 4,
 "nbformat_minor": 2
}
